{
 "metadata": {
  "language_info": {
   "codemirror_mode": {
    "name": "ipython",
    "version": 3
   },
   "file_extension": ".py",
   "mimetype": "text/x-python",
   "name": "python",
   "nbconvert_exporter": "python",
   "pygments_lexer": "ipython3",
   "version": "3.6.0-final"
  },
  "orig_nbformat": 2,
  "kernelspec": {
   "name": "python3",
   "display_name": "Python 3.6.0 64-bit",
   "metadata": {
    "interpreter": {
     "hash": "6ba569e6e14c6a6cb30034dc09f2ba2802082f0801da3ce64789f0f071e12900"
    }
   }
  }
 },
 "nbformat": 4,
 "nbformat_minor": 2,
 "cells": [
  {
   "source": [
    "### Libraries"
   ],
   "cell_type": "markdown",
   "metadata": {}
  },
  {
   "cell_type": "code",
   "execution_count": 19,
   "metadata": {},
   "outputs": [],
   "source": [
    "import pandas\n",
    "import ipaddress as ip\n",
    "import re"
   ]
  },
  {
   "source": [
    "### Dataset"
   ],
   "cell_type": "markdown",
   "metadata": {}
  },
  {
   "cell_type": "code",
   "execution_count": 20,
   "metadata": {},
   "outputs": [
    {
     "output_type": "stream",
     "name": "stdout",
     "text": [
      "                                                     url  label\n0      https://rm-billing.com/secure.php?&amp;session...      1\n1                      https://karlory.com/document/2222      1\n2          https://infobank.app.link/?platform=hootsuite      1\n3      http://doapositioning.com/wp-includes/access/c...      1\n4      http://rextraening.dk/wp-content/plugins/salem...      1\n5      https://yauohwijrqefqyiywrxzejtqcw-dot-gl09989...      1\n6                         http://ingegneriaingonlin.com/      1\n7                           https://tinyurl.com/yxvpdevz      1\n8                  http://georgina.morris.tripod.com/ajc      0\n9      https://servmessagerieinternetclient.yahoosite...      1\n10                             http://www.joesalter.com/      0\n11     http://creativecombat.com/wp-admin/network/acc...      1\n12            http://amazom.co.jp.verification10000.com/      1\n13                           https://m54af8.webwave.dev/      1\n14                           http://org-nr.yolasite.com/      1\n15                  http://vk-sdamkv74.000webhostapp.com      1\n16              https://marlian-tradr.000webhostapp.com/      1\n17                                   http://www.wetv.in/      0\n18            http://safetyguard-001-site1.itempurl.com/      1\n19     https://heavenlyheartspcianmcvitie.org/favicon...      1\n20                             http://notariagalvez.com/      1\n21     http://suspfacebookcom-81448794.nightaway.ca/c...      1\n22                          https://gov.uk-auth-d21.com/      1\n23              https://cheerful-ionized-hall.glitch.me/      1\n24     https://temporaryserver13.com/excel/login/bizm...      1\n25       https://notifymobilealerts.com/lloyds/Login.php      1\n26                   http://www.collectiblefirearms.com/      0\n27     http://www.datenerweiterungsprozesslauf2222.xy...      1\n28     https://nuqgkphjkylxnncgvpodsixrxm-dot-gle3940...      1\n29                  http://tuckentrepreneurcoaching.com/      1\n...                                                  ...    ...\n14747  https://7d6aed06963830457.temporary.link/DS544...      1\n14748  http://seivino.it/js/reads/?ss=2&amp;ea=himans...      1\n14749                    https://linktr.ee/levinhoevents      1\n14750               https://urbenorte.com/cmdsr/snib.php      1\n14751       https://leboncoinservicee.000webhostapp.com/      1\n14752  https://auduboninstitute-my.sharepoint.com/:o:...      1\n14753                https://www.surveylegend.com/s/2vze      1\n14754  https://www.devicesupport-lloydbank.com/Login.php      1\n14755    https://1drv.ms/o/s!AsDOqhDzchZKcekSmE1zxZ0tBys      1\n14756           http://www.joindewasa.qpoe.com/login.php      1\n14757  https://forms.office.com/Pages/ResponsePage.as...      1\n14758                       http://www.showbizradio.net/      0\n14759  http://nocontent-puwrkykl.velocityhub.com/next...      1\n14760                               http://www.jobs.net/      0\n14761  https://www.loydsbank.co.uk-mydevices-gb.uk/Lo...      1\n14762                       http://www.sweetarleens.com/      0\n14763  https://www.eladios.com.mx/library/carouFredSe...      1\n14764              https://de80543.xyz/spk/anmeldung.php      1\n14765  http://www.chat-whatsapp8jhvztulp7ajofk9jua3jf...      1\n14766         http://secure-halifaxaccount.com/Login.php      1\n14767  https://fb39856-page78346-real-estate-item9123...      1\n14768  https://clouddoc-authorize.firebaseapp.com/......      1\n14769                             http://savoyfoods.com/      0\n14770                          http://www.hetrippin.com/      0\n14771                    https://starlightsavick.com/doc      1\n14772  http://www.arrowcase.com/wp-content/plugins/ba...      1\n14773  https://firebasestorage.googleapis.com/v0/b/on...      1\n14774  https://auth-via-cancellation.com/lloyds/Login...      1\n14775  https://laaksik1.emlnk.com/lt.php?s=6f497ba8af...      1\n14776  http://www.rakuten.co.jp.nva399s6ebxhs30f7m5x4...      1\n\n[14777 rows x 2 columns]\n"
     ]
    }
   ],
   "source": [
    "data = pandas.read_csv(\"final_dataset.csv\").sample(frac=1).reset_index(drop=True)\n",
    "print(data)"
   ]
  },
  {
   "source": [
    "### Feature Set"
   ],
   "cell_type": "markdown",
   "metadata": {}
  },
  {
   "cell_type": "code",
   "execution_count": 21,
   "metadata": {},
   "outputs": [
    {
     "output_type": "execute_result",
     "data": {
      "text/plain": [
       "Empty DataFrame\n",
       "Columns: [URL_Length, Dots_Count, Suspicious_TLD, Hyphen_Count, Subdir_Count, Domain_Length, IP_Present, Double_Slash_Count, URL_Shortening_Service, Count_SubDomain (Domain_Tokens), Count_Queries, Count_At_Symbol, Presence of %20, digit/letter, special_characters]\n",
       "Index: []"
      ],
      "text/html": "<div>\n<style scoped>\n    .dataframe tbody tr th:only-of-type {\n        vertical-align: middle;\n    }\n\n    .dataframe tbody tr th {\n        vertical-align: top;\n    }\n\n    .dataframe thead th {\n        text-align: right;\n    }\n</style>\n<table border=\"1\" class=\"dataframe\">\n  <thead>\n    <tr style=\"text-align: right;\">\n      <th></th>\n      <th>URL_Length</th>\n      <th>Dots_Count</th>\n      <th>Suspicious_TLD</th>\n      <th>Hyphen_Count</th>\n      <th>Subdir_Count</th>\n      <th>Domain_Length</th>\n      <th>IP_Present</th>\n      <th>Double_Slash_Count</th>\n      <th>URL_Shortening_Service</th>\n      <th>Count_SubDomain (Domain_Tokens)</th>\n      <th>Count_Queries</th>\n      <th>Count_At_Symbol</th>\n      <th>Presence of %20</th>\n      <th>digit/letter</th>\n      <th>special_characters</th>\n    </tr>\n  </thead>\n  <tbody>\n  </tbody>\n</table>\n</div>"
     },
     "metadata": {},
     "execution_count": 21
    }
   ],
   "source": [
    "featureSet = pandas.DataFrame(columns=('URL_Length', 'Dots_Count', 'Suspicious_TLD', 'Hyphen_Count', 'Subdir_Count', 'Domain_Length', 'IP_Present','Double_Slash_Count', 'URL_Shortening_Service', 'Count_SubDomain (Domain_Tokens)', 'Count_Queries', 'Count_At_Symbol', 'Presence of %20', 'digit/letter', 'special_characters'))\n",
    "featureSet"
   ]
  },
  {
   "cell_type": "code",
   "execution_count": 22,
   "metadata": {},
   "outputs": [],
   "source": [
    "from urllib.parse import urlparse\n",
    "import tldextract\n",
    "\n",
    "suspicious_TLD = ['country' , 'kim' , 'science', 'gq', 'work', 'ninja', 'xyz', 'date', 'faith', 'zip', 'racing', 'cricket', 'win','space','accountant','realtor','top','stream','christmas','gdn','mom','pro','men']\n",
    "\n",
    "\n",
    "shortening_services = r\"bit\\.ly|goo\\.gl|shorte\\.st|go2l\\.ink|x\\.co|ow\\.ly|t\\.co|tinyurl|tr\\.im|is\\.gd|cli\\.gs|\" \\\n",
    "                      r\"yfrog\\.com|migre\\.me|ff\\.im|tiny\\.cc|url4\\.eu|twit\\.ac|su\\.pr|twurl\\.nl|snipurl\\.com|\" \\\n",
    "                      r\"short\\.to|BudURL\\.com|ping\\.fm|post\\.ly|Just\\.as|bkite\\.com|snipr\\.com|fic\\.kr|loopt\\.us|\" \\\n",
    "                      r\"doiop\\.com|short\\.ie|kl\\.am|wp\\.me|rubyurl\\.com|om\\.ly|to\\.ly|bit\\.do|t\\.co|lnkd\\.in|db\\.tt|\" \\\n",
    "                      r\"qr\\.ae|adf\\.ly|goo\\.gl|bitly\\.com|cur\\.lv|tinyurl\\.com|ow\\.ly|bit\\.ly|ity\\.im|q\\.gs|is\\.gd|\" \\\n",
    "                      r\"po\\.st|bc\\.vc|twitthis\\.com|u\\.to|j\\.mp|buzurl\\.com|cutt\\.us|u\\.bb|yourls\\.org|x\\.co|\" \\\n",
    "                      r\"prettylinkpro\\.com|scrnch\\.me|filoops\\.info|vzturl\\.com|qr\\.net|1url\\.com|tweez\\.me|v\\.gd|\" \\\n",
    "                      r\"tr\\.im|link\\.zip\\.net\"\n",
    "def is_ip(url):\n",
    "    try:\n",
    "        if ip.ip_address(url):\n",
    "            return 1\n",
    "    except:\n",
    "            return 0\n",
    "def count_subdomain(sub):\n",
    "    if not sub:\n",
    "        return 0\n",
    "    else:\n",
    "        return len(sub.split('.'))\n",
    "\n",
    "def extract_features(url):\n",
    "    vector = []\n",
    "    path  = urlparse(url)\n",
    "    ext = tldextract.extract(url)\n",
    "    #print(path,ext)\n",
    "\n",
    "\n",
    "    vector.append(len(url))\n",
    "    vector.append(url.count('.'))\n",
    "    vector.append(1 if ext.suffix in suspicious_TLD else 0)\n",
    "    vector.append(url.count('-'))\n",
    "    vector.append(path.path.count('/'))\n",
    "    vector.append(len(path.netloc))\n",
    "    vector.append(is_ip(url))\n",
    "    vector.append(url.count('//'))\n",
    "    vector.append(1 if re.search(shortening_services, url) else 0)\n",
    "    vector.append(count_subdomain(ext.subdomain))\n",
    "    vector.append(path.query.count('='))\n",
    "    vector.append(url.count('@'))\n",
    "    vector.append(0 if path.path.find('%20')==-1 else 1)\n",
    "    d=l=spc=0\n",
    "    for c in url:\n",
    "        if c.isdigit():\n",
    "            d=d+1\n",
    "        elif c.isalpha():\n",
    "            l=l+1\n",
    "        else:\n",
    "            pass\n",
    "    for c in path.path:\n",
    "        if c.isdigit():\n",
    "            pass\n",
    "        elif c.isalpha():\n",
    "            pass\n",
    "        else:\n",
    "            spc+=1\n",
    "    vector.append(d/(l if l!=0 else 1))\n",
    "    vector.append(spc)\n",
    "    return vector\n",
    "    "
   ]
  },
  {
   "cell_type": "code",
   "execution_count": 23,
   "metadata": {},
   "outputs": [
    {
     "output_type": "stream",
     "name": "stdout",
     "text": [
      "ParseResult(scheme='https', netloc='www.drive.google.com', path='/drive/page.php', params='', query='', fragment='') ExtractResult(subdomain='www.drive', domain='google', suffix='com')\n"
     ]
    }
   ],
   "source": [
    "url = 'https://www.drive.google.com/drive/page.php'\n",
    "\n",
    "\n",
    "print(urlparse(url), tldextract.extract(url))"
   ]
  },
  {
   "source": [
    "### Get Features"
   ],
   "cell_type": "markdown",
   "metadata": {}
  },
  {
   "cell_type": "code",
   "execution_count": 24,
   "metadata": {
    "tags": []
   },
   "outputs": [],
   "source": [
    "for i in range(len(data)):\n",
    "    featureSet.loc[i] = extract_features(data[\"url\"].loc[i])"
   ]
  },
  {
   "source": [
    "### Chart"
   ],
   "cell_type": "markdown",
   "metadata": {}
  },
  {
   "cell_type": "code",
   "execution_count": 25,
   "metadata": {},
   "outputs": [
    {
     "output_type": "stream",
     "name": "stdout",
     "text": [
      "                     Specs         Score\n0               URL_Length  87467.014294\n14      special_characters   3162.325793\n3             Hyphen_Count   2981.999352\n5            Domain_Length   2715.829394\n10           Count_Queries   1552.776125\n4             Subdir_Count   1131.356960\n13            digit/letter    441.720910\n1               Dots_Count    278.095503\n8   URL_Shortening_Service    158.815488\n11         Count_At_Symbol    136.873881\n"
     ]
    }
   ],
   "source": [
    "import pandas as pd\n",
    "import numpy as np\n",
    "from sklearn.feature_selection import SelectKBest\n",
    "from sklearn.feature_selection import chi2\n",
    "#apply SelectKBest class to extract top 10 best features\n",
    "bestfeatures = SelectKBest(score_func=chi2, k=10)\n",
    "X = featureSet\n",
    "y = data['label']\n",
    "fit = bestfeatures.fit(X,y)\n",
    "dfscores = pd.DataFrame(fit.scores_)\n",
    "dfcolumns = pd.DataFrame(X.columns)\n",
    "#concat two dataframes for better visualization \n",
    "featureScores = pd.concat([dfcolumns,dfscores],axis=1)\n",
    "featureScores.columns = ['Specs','Score']  #naming the dataframe columns\n",
    "print(featureScores.nlargest(10,'Score'))  #print 10 best features"
   ]
  },
  {
   "cell_type": "code",
   "execution_count": 26,
   "metadata": {},
   "outputs": [
    {
     "output_type": "stream",
     "name": "stderr",
     "text": [
      "C:\\Users\\Sumit\\AppData\\Local\\Programs\\Python\\Python36\\lib\\site-packages\\sklearn\\ensemble\\forest.py:245: FutureWarning: The default value of n_estimators will change from 10 in version 0.20 to 100 in 0.22.\n  \"10 in version 0.20 to 100 in 0.22.\", FutureWarning)\n"
     ]
    },
    {
     "output_type": "display_data",
     "data": {
      "text/plain": "<Figure size 432x288 with 1 Axes>",
      "image/png": "[encoded data removed]"
     },
     "metadata": {
      "needs_background": "light"
     }
    }
   ],
   "source": [
    "import pandas as pd\n",
    "import numpy as np\n",
    "from sklearn.ensemble import ExtraTreesClassifier\n",
    "import matplotlib.pyplot as plt\n",
    "#X = data.iloc[:,1:12]  #independent columns\n",
    "#y = data.iloc[:,-1].astype('int')   #target column i.e price range\n",
    "model = ExtraTreesClassifier()\n",
    "model.fit(X,y)\n",
    "#print(model.feature_importances_) #use inbuilt class feature_importances of tree based classifiers\n",
    "#plot graph of feature importances for better visualization\n",
    "feat_importances = pd.Series(model.feature_importances_, index=X.columns)\n",
    "feat_importances.nlargest(10).plot(kind='barh')\n",
    "plt.show()"
   ]
  },
  {
   "source": [
    "#### 75% malicious 25% benign"
   ],
   "cell_type": "markdown",
   "metadata": {}
  },
  {
   "cell_type": "code",
   "execution_count": 45,
   "metadata": {},
   "outputs": [
    {
     "output_type": "stream",
     "name": "stdout",
     "text": [
      "9026\n"
     ]
    }
   ],
   "source": [
    "from sklearn.svm import SVC\n",
    "from sklearn.model_selection import train_test_split\n",
    "X = featureSet.values\n",
    "y = data['label'].values\n",
    "\n",
    "X_train, X_test, y_train, y_test = train_test_split(X, y, test_size=0.2, shuffle=True, stratify=y,random_state=0)"
   ]
  },
  {
   "source": [
    "### SVM"
   ],
   "cell_type": "markdown",
   "metadata": {}
  },
  {
   "cell_type": "code",
   "execution_count": 38,
   "metadata": {},
   "outputs": [
    {
     "output_type": "execute_result",
     "data": {
      "text/plain": [
       "0.8826116373477673"
      ]
     },
     "metadata": {},
     "execution_count": 38
    }
   ],
   "source": [
    "model = SVC(kernel='linear')\n",
    "model.fit(X_train, y_train)\n",
    "score = model.score(X_test, y_test)\n",
    "score"
   ]
  },
  {
   "source": [
    "### Random Forest"
   ],
   "cell_type": "markdown",
   "metadata": {}
  },
  {
   "cell_type": "code",
   "execution_count": 39,
   "metadata": {},
   "outputs": [
    {
     "output_type": "stream",
     "name": "stdout",
     "text": [
      "\nACCURACY OF THE MODEL:  0.9407983761840325\n"
     ]
    }
   ],
   "source": [
    "from sklearn.ensemble import RandomForestClassifier\n",
    "clf = RandomForestClassifier(n_estimators = 100)  \n",
    "  \n",
    "# Training the model on the training dataset\n",
    "# fit function is used to train the model using the training sets as parameters\n",
    "clf.fit(X_train, y_train)\n",
    "  \n",
    "# performing predictions on the test dataset\n",
    "y_pred = clf.predict(X_test)\n",
    "  \n",
    "# metrics are used to find accuracy or error\n",
    "from sklearn import metrics  \n",
    "print()\n",
    "  \n",
    "# using metrics module for accuracy calculation\n",
    "print(\"ACCURACY OF THE MODEL: \", metrics.accuracy_score(y_test, y_pred))"
   ]
  },
  {
   "source": [
    "### Saving the Model"
   ],
   "cell_type": "markdown",
   "metadata": {}
  },
  {
   "cell_type": "code",
   "execution_count": 40,
   "metadata": {},
   "outputs": [
    {
     "output_type": "execute_result",
     "data": {
      "text/plain": [
       "['version1_Lexical.pkl']"
      ]
     },
     "metadata": {},
     "execution_count": 40
    }
   ],
   "source": [
    "from joblib import dump, load\n",
    "dump(model, 'version1_Lexical.pkl')\n"
   ]
  },
  {
   "cell_type": "code",
   "execution_count": null,
   "metadata": {},
   "outputs": [],
   "source": []
  }
 ]
}
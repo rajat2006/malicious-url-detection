{
 "metadata": {
  "language_info": {
   "codemirror_mode": {
    "name": "ipython",
    "version": 3
   },
   "file_extension": ".py",
   "mimetype": "text/x-python",
   "name": "python",
   "nbconvert_exporter": "python",
   "pygments_lexer": "ipython3",
   "version": "3.6.0-final"
  },
  "orig_nbformat": 2,
  "kernelspec": {
   "name": "python3",
   "display_name": "Python 3.6.0 64-bit",
   "metadata": {
    "interpreter": {
     "hash": "6ba569e6e14c6a6cb30034dc09f2ba2802082f0801da3ce64789f0f071e12900"
    }
   }
  }
 },
 "nbformat": 4,
 "nbformat_minor": 2,
 "cells": [
  {
   "source": [
    "### File Read"
   ],
   "cell_type": "markdown",
   "metadata": {}
  },
  {
   "cell_type": "code",
   "execution_count": 3,
   "metadata": {},
   "outputs": [],
   "source": [
    "import pandas as pd\n",
    "benign_set = pd.read_csv('dataset/benign_url.csv')\n",
    "malicious_set = pd.read_csv('dataset/malicious_url.csv')[['url']]\n",
    "malicious_set.insert(1, 'label', 1)"
   ]
  },
  {
   "source": [
    "### Combine, Shuffle and Save in csv format"
   ],
   "cell_type": "markdown",
   "metadata": {}
  },
  {
   "cell_type": "code",
   "execution_count": 4,
   "metadata": {},
   "outputs": [],
   "source": [
    "min_length = min(len(malicious_set), len(benign_set))\n",
    "dataset = malicious_set[:min_length].append(benign_set[:min_length], ignore_index=True).sample(frac=1).reset_index(drop=True)\n",
    "dataset.to_csv('final_dataset.csv',index=False)"
   ]
  },
  {
   "cell_type": "code",
   "execution_count": null,
   "metadata": {},
   "outputs": [],
   "source": []
  }
 ]
}
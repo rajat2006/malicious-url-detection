{
 "cells": [
  {
   "cell_type": "code",
   "execution_count": null,
   "id": "precise-bradford",
   "metadata": {},
   "outputs": [],
   "source": [
    "import whois\n",
    "import pandas as pd\n",
    "import tldextract\n",
    "import datetime"
   ]
  },
  {
   "cell_type": "code",
   "execution_count": null,
   "id": "covered-contractor",
   "metadata": {},
   "outputs": [],
   "source": [
    "df= pd.read_csv(\"final_dataset.csv\")"
   ]
  },
  {
   "cell_type": "code",
   "execution_count": null,
   "id": "hollow-slope",
   "metadata": {},
   "outputs": [],
   "source": [
    "df.head(10)"
   ]
  },
  {
   "cell_type": "code",
   "execution_count": null,
   "id": "lucky-serve",
   "metadata": {},
   "outputs": [],
   "source": [
    "len(df)"
   ]
  },
  {
   "cell_type": "code",
   "execution_count": null,
   "id": "breeding-commodity",
   "metadata": {},
   "outputs": [],
   "source": [
    "feature_set = pd.DataFrame(columns=('url', 'duration', 'label'))"
   ]
  },
  {
   "cell_type": "code",
   "execution_count": null,
   "id": "artistic-adolescent",
   "metadata": {},
   "outputs": [],
   "source": [
    "def get_features(url , label):\n",
    "    result = []\n",
    "    url = str(url)\n",
    "    result.append(url)\n",
    "    # url = \"http://royalmail.reschedule-missed-parcel.com/\"\n",
    "    ext = tldextract.extract(url)\n",
    "    domain = '.'.join(ext[1:])\n",
    "    \n",
    "    try:\n",
    "        whois.query(domain)\n",
    "    except:\n",
    "        return result\n",
    "    else:\n",
    "        w = whois.query(domain)\n",
    "    \n",
    "    if w is None:\n",
    "        return result\n",
    "    \n",
    "    avg_month_time=365.2425/12.0\n",
    "    \n",
    "    #calculate creation age in months\n",
    "    \n",
    "    create_date = -1\n",
    "    if w.creation_date == None or type(w.creation_date) is str :\n",
    "        create_date = -1\n",
    "    else:\n",
    "        if(type(w.creation_date) is list): \n",
    "            create_date=w.creation_date[-1]\n",
    "        else:\n",
    "            create_date=w.creation_date\n",
    "    \n",
    "    #calculate expiry age in months\n",
    "    \n",
    "    expiry_date = -1\n",
    "    if(w.expiration_date==None or type(w.expiration_date) is str):\n",
    "        expiry_date = -1\n",
    "    else:\n",
    "        if(type(w.expiration_date) is list):\n",
    "            expiry_date=w.expiration_date[-1]\n",
    "        else:\n",
    "            expiry_date=w.expiration_date\n",
    "\n",
    "    if create_date == -1 or expiry_date == -1:\n",
    "        return result\n",
    "    duration = round(((expiry_date - create_date).days)/avg_month_time)\n",
    "    \n",
    "    result.append(str(duration))\n",
    "    result.append(str(label))\n",
    "    return result\n"
   ]
  },
  {
   "cell_type": "code",
   "execution_count": null,
   "id": "progressive-nebraska",
   "metadata": {
    "scrolled": true
   },
   "outputs": [],
   "source": [
    "for i in range(len(df)):\n",
    "    features = get_features(df[\"url\"].loc[i], df[\"label\"].loc[i]) \n",
    "    if(len(features) == 3):\n",
    "        print(features)\n",
    "        feature_set.append(features)\n",
    "#     feature_set.loc[i] = features\n",
    "    if i%100 == 0:\n",
    "        print(len(feature_set))\n",
    "print(feature_set.head())\n",
    "print(len(feature_set))"
   ]
  },
  {
   "cell_type": "code",
   "execution_count": null,
   "id": "optical-inside",
   "metadata": {},
   "outputs": [],
   "source": [
    "feature_set.to_csv(\"host_based_dataset.csv\")"
   ]
  },
  {
   "cell_type": "code",
   "execution_count": null,
   "id": "electrical-delaware",
   "metadata": {},
   "outputs": [],
   "source": [
    "from sklearn import svm, cross_validation\n",
    "from sklearn.metrics import confusion_matrix\n"
   ]
  },
  {
   "cell_type": "code",
   "execution_count": null,
   "id": "healthy-amber",
   "metadata": {},
   "outputs": [],
   "source": [
    "feature_set.groupby(feature_set['label']).size()"
   ]
  },
  {
   "cell_type": "code",
   "execution_count": null,
   "id": "compact-sherman",
   "metadata": {},
   "outputs": [],
   "source": [
    "X = feature_set.drop(['url','label'],axis=1).values\n",
    "y = feature_set['label'].values"
   ]
  },
  {
   "cell_type": "code",
   "execution_count": null,
   "id": "boxed-ribbon",
   "metadata": {},
   "outputs": [],
   "source": [
    "X_train, X_test, y_train, y_test = cross_validation.train_test_split(X, y ,test_size=0.2)"
   ]
  },
  {
   "cell_type": "code",
   "execution_count": null,
   "id": "smoking-resort",
   "metadata": {},
   "outputs": [],
   "source": [
    "svm_model = svm.SVC()\n",
    "svm_model.fit(X_train,y_train)\n",
    "score = svm_model.score(X_test,y_test)\n",
    "print(score)"
   ]
  },
  {
   "cell_type": "code",
   "execution_count": null,
   "id": "controlling-doctrine",
   "metadata": {},
   "outputs": [],
   "source": [
    "res = svm_model.predict(X)\n",
    "mt = confusion_matrix(y, res)\n",
    "print(mt)\n",
    "print(\"False positive rate : %f %%\" % ((mt[0][1] / float(sum(mt[0])))*100))\n",
    "print('False negative rate : %f %%' % ( (mt[1][0] / float(sum(mt[1]))*100)))"
   ]
  },
  {
   "cell_type": "code",
   "execution_count": null,
   "id": "global-nudist",
   "metadata": {},
   "outputs": [],
   "source": [
    " "
   ]
  },
  {
   "cell_type": "code",
   "execution_count": null,
   "id": "hispanic-detector",
   "metadata": {},
   "outputs": [],
   "source": []
  },
  {
   "cell_type": "code",
   "execution_count": null,
   "id": "lovely-neighborhood",
   "metadata": {},
   "outputs": [],
   "source": []
  }
 ],
 "metadata": {
  "kernelspec": {
   "display_name": "Python 3",
   "language": "python",
   "name": "python3"
  },
  "language_info": {
   "codemirror_mode": {
    "name": "ipython",
    "version": 3
   },
   "file_extension": ".py",
   "mimetype": "text/x-python",
   "name": "python",
   "nbconvert_exporter": "python",
   "pygments_lexer": "ipython3",
   "version": "3.9.2"
  }
 },
 "nbformat": 4,
 "nbformat_minor": 5
}

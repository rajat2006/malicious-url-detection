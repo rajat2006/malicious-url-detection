{
 "metadata": {
  "language_info": {
   "codemirror_mode": {
    "name": "ipython",
    "version": 3
   },
   "file_extension": ".py",
   "mimetype": "text/x-python",
   "name": "python",
   "nbconvert_exporter": "python",
   "pygments_lexer": "ipython3",
   "version": "3.6.0"
  },
  "orig_nbformat": 2,
  "kernelspec": {
   "name": "python360jvsc74a57bd06ba569e6e14c6a6cb30034dc09f2ba2802082f0801da3ce64789f0f071e12900",
   "display_name": "Python 3.6.0 64-bit"
  }
 },
 "nbformat": 4,
 "nbformat_minor": 2,
 "cells": [
  {
   "source": [
    "### Testing a URL for malicious"
   ],
   "cell_type": "markdown",
   "metadata": {}
  },
  {
   "cell_type": "code",
   "execution_count": 2,
   "metadata": {},
   "outputs": [],
   "source": [
    "from joblib import load\n",
    "import pandas\n",
    "import re"
   ]
  },
  {
   "cell_type": "code",
   "execution_count": 3,
   "metadata": {},
   "outputs": [],
   "source": [
    "from urllib.parse import urlparse\n",
    "import tldextract\n",
    "\n",
    "suspicious_TLD = ['country' , 'kim' , 'science', 'gq', 'work', 'ninja', 'xyz', 'date', 'faith', 'zip', 'racing', 'cricket', 'win','space','accountant','realtor','top','stream','christmas','gdn','mom','pro','men']\n",
    "\n",
    "\n",
    "shortening_services = r\"bit\\.ly|goo\\.gl|shorte\\.st|go2l\\.ink|x\\.co|ow\\.ly|t\\.co|tinyurl|tr\\.im|is\\.gd|cli\\.gs|\" \\\n",
    "                      r\"yfrog\\.com|migre\\.me|ff\\.im|tiny\\.cc|url4\\.eu|twit\\.ac|su\\.pr|twurl\\.nl|snipurl\\.com|\" \\\n",
    "                      r\"short\\.to|BudURL\\.com|ping\\.fm|post\\.ly|Just\\.as|bkite\\.com|snipr\\.com|fic\\.kr|loopt\\.us|\" \\\n",
    "                      r\"doiop\\.com|short\\.ie|kl\\.am|wp\\.me|rubyurl\\.com|om\\.ly|to\\.ly|bit\\.do|t\\.co|lnkd\\.in|db\\.tt|\" \\\n",
    "                      r\"qr\\.ae|adf\\.ly|goo\\.gl|bitly\\.com|cur\\.lv|tinyurl\\.com|ow\\.ly|bit\\.ly|ity\\.im|q\\.gs|is\\.gd|\" \\\n",
    "                      r\"po\\.st|bc\\.vc|twitthis\\.com|u\\.to|j\\.mp|buzurl\\.com|cutt\\.us|u\\.bb|yourls\\.org|x\\.co|\" \\\n",
    "                      r\"prettylinkpro\\.com|scrnch\\.me|filoops\\.info|vzturl\\.com|qr\\.net|1url\\.com|tweez\\.me|v\\.gd|\" \\\n",
    "                      r\"tr\\.im|link\\.zip\\.net\"\n",
    "def is_ip(url):\n",
    "    try:\n",
    "        if ip.ip_address(url):\n",
    "            return 1\n",
    "    except:\n",
    "            return 0\n",
    "def count_subdomain(sub):\n",
    "    if not sub:\n",
    "        return 0\n",
    "    else:\n",
    "        return len(sub.split('.'))\n",
    "\n",
    "def extract_features(url):\n",
    "    vector = []\n",
    "    path  = urlparse(url)\n",
    "    ext = tldextract.extract(url)\n",
    "    #print(path,ext)\n",
    "\n",
    "\n",
    "    vector.append(len(url))\n",
    "    vector.append(url.count('.'))\n",
    "    vector.append(1 if ext.suffix in suspicious_TLD else 0)\n",
    "    vector.append(url.count('-'))\n",
    "    vector.append(path.path.count('/'))\n",
    "    vector.append(len(path.netloc))\n",
    "    vector.append(is_ip(url))\n",
    "    vector.append(url.count('//'))\n",
    "    vector.append(1 if re.search(shortening_services, url) else 0)\n",
    "    vector.append(count_subdomain(ext.subdomain))\n",
    "    vector.append(path.query.count('='))\n",
    "    vector.append(url.count('@'))\n",
    "    vector.append(0 if path.path.find('%20')==-1 else 1)\n",
    "    d=l=spc=0\n",
    "    for c in url:\n",
    "        if c.isdigit():\n",
    "            d=d+1\n",
    "        elif c.isalpha():\n",
    "            l=l+1\n",
    "        else:\n",
    "            pass\n",
    "    for c in path.path:\n",
    "        if c.isdigit():\n",
    "            pass\n",
    "        elif c.isalpha():\n",
    "            pass\n",
    "        else:\n",
    "            spc+=1\n",
    "    vector.append(d/(l if l!=0 else 1))\n",
    "    vector.append(spc)\n",
    "    return vector\n",
    "    "
   ]
  },
  {
   "cell_type": "code",
   "execution_count": 4,
   "metadata": {},
   "outputs": [],
   "source": [
    "Url = \"\"\n",
    "model = load('version1_Lexical.pkl')"
   ]
  },
  {
   "cell_type": "code",
   "execution_count": 5,
   "metadata": {},
   "outputs": [
    {
     "output_type": "stream",
     "name": "stdout",
     "text": [
      "[0]\n"
     ]
    }
   ],
   "source": [
    "import numpy as np\n",
    "\n",
    "test= np.asarray(extract_features(Url)).reshape(1,-1)\n",
    "print(model.predict(test))"
   ]
  },
  {
   "cell_type": "code",
   "execution_count": null,
   "metadata": {},
   "outputs": [],
   "source": []
  }
 ]
}
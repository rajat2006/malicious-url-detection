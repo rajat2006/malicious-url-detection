{
 "metadata": {
  "language_info": {
   "codemirror_mode": {
    "name": "ipython",
    "version": 3
   },
   "file_extension": ".py",
   "mimetype": "text/x-python",
   "name": "python",
   "nbconvert_exporter": "python",
   "pygments_lexer": "ipython3",
   "version": "3.9.2"
  },
  "orig_nbformat": 2,
  "kernelspec": {
   "name": "python392jvsc74a57bd0a5960c2f70b146ea874e556e1a3504e57a335b9ca24d9745817f201e6298edc1",
   "display_name": "Python 3.9.2 64-bit ('malicious-url-detection': conda)"
  }
 },
 "nbformat": 4,
 "nbformat_minor": 2,
 "cells": [
  {
   "cell_type": "code",
   "execution_count": 1,
   "metadata": {},
   "outputs": [],
   "source": [
    "from river import compose\n",
    "from river import tree\n",
    "from river import metrics\n",
    "from river import preprocessing"
   ]
  },
  {
   "cell_type": "code",
   "execution_count": 2,
   "metadata": {},
   "outputs": [],
   "source": [
    "model = compose.Pipeline(\n",
    "    preprocessing.StandardScaler(),\n",
    "    tree.ExtremelyFastDecisionTreeClassifier()   \n",
    ")"
   ]
  },
  {
   "cell_type": "code",
   "execution_count": 4,
   "metadata": {},
   "outputs": [],
   "source": [
    "metric1 = metrics.Accuracy()\n",
    "metric2 = metrics.Precision()\n",
    "metric3 = metrics.Recall()"
   ]
  },
  {
   "cell_type": "code",
   "execution_count": 5,
   "metadata": {},
   "outputs": [],
   "source": [
    "# online learning prototype for all types of models\n",
    "import csv\n",
    "with open('all_features.csv') as csv_file:\n",
    "    reader = csv.reader(csv_file)\n",
    "    next(csv_file)\n",
    "    for row in reader:\n",
    "        # Assuming url at index 0 and label at index 23\n",
    "        x = {\n",
    "            \"f1\" : float(row[1]),\n",
    "            \"f2\" : float(row[2]),\n",
    "            \"f3\" : float(row[3]),\n",
    "            \"f4\" : float(row[4]),\n",
    "            \"f5\" : float(row[5]),\n",
    "            \"f6\" : float(row[6]),\n",
    "            \"f7\" : float(row[7]),\n",
    "            \"f8\" : float(row[8]),\n",
    "            \"f9\" : float(row[9]),\n",
    "            \"f10\" : float(row[10]),\n",
    "            \"f11\" : float(row[11]),\n",
    "            \"f12\" : float(row[12]),\n",
    "            \"f13\" : float(row[13]),\n",
    "            \"f14\" : float(row[14]),\n",
    "            \"f15\" : float(row[15]),\n",
    "            \"f16\" : float(row[16]),\n",
    "            \"f17\" : float(row[17]),\n",
    "            \"f18\" : float(row[18]),\n",
    "            \"f19\" : float(row[19]),\n",
    "            \"f20\" : float(row[20]),\n",
    "            \"f21\" : float(row[21]),\n",
    "            \"f22\" : float(row[22])\n",
    "        }\n",
    "        y = float(row[-1])\n",
    "        y_pred = model.predict_one(x)\n",
    "        metric1 = metric1.update(y, y_pred)\n",
    "        metric2 = metric2.update(y, y_pred)\n",
    "        metric3 = metric3.update(y, y_pred)\n",
    "        model = model.learn_one(x, y)"
   ]
  },
  {
   "cell_type": "code",
   "execution_count": 10,
   "metadata": {},
   "outputs": [],
   "source": []
  },
  {
   "cell_type": "code",
   "execution_count": 11,
   "metadata": {},
   "outputs": [
    {
     "output_type": "execute_result",
     "data": {
      "text/plain": [
       "                                                 url  duration  label\n",
       "0                      http://www.currysleather.com/       240      0\n",
       "1                             http://www.mcfc.co.uk/       309      0\n",
       "2  https://whatsapp.blazagency.com/99e665748bd5bf...        12      1\n",
       "3                       https://pwcs-co.cf/?login=do        -1      1\n",
       "4               https://messagerie-llebon-coins.com/        12      1"
      ],
      "text/html": "<div>\n<style scoped>\n    .dataframe tbody tr th:only-of-type {\n        vertical-align: middle;\n    }\n\n    .dataframe tbody tr th {\n        vertical-align: top;\n    }\n\n    .dataframe thead th {\n        text-align: right;\n    }\n</style>\n<table border=\"1\" class=\"dataframe\">\n  <thead>\n    <tr style=\"text-align: right;\">\n      <th></th>\n      <th>url</th>\n      <th>duration</th>\n      <th>label</th>\n    </tr>\n  </thead>\n  <tbody>\n    <tr>\n      <th>0</th>\n      <td>http://www.currysleather.com/</td>\n      <td>240</td>\n      <td>0</td>\n    </tr>\n    <tr>\n      <th>1</th>\n      <td>http://www.mcfc.co.uk/</td>\n      <td>309</td>\n      <td>0</td>\n    </tr>\n    <tr>\n      <th>2</th>\n      <td>https://whatsapp.blazagency.com/99e665748bd5bf...</td>\n      <td>12</td>\n      <td>1</td>\n    </tr>\n    <tr>\n      <th>3</th>\n      <td>https://pwcs-co.cf/?login=do</td>\n      <td>-1</td>\n      <td>1</td>\n    </tr>\n    <tr>\n      <th>4</th>\n      <td>https://messagerie-llebon-coins.com/</td>\n      <td>12</td>\n      <td>1</td>\n    </tr>\n  </tbody>\n</table>\n</div>"
     },
     "metadata": {},
     "execution_count": 11
    }
   ],
   "source": [
    "df1.head(5)"
   ]
  },
  {
   "cell_type": "code",
   "execution_count": 12,
   "metadata": {},
   "outputs": [
    {
     "output_type": "execute_result",
     "data": {
      "text/plain": [
       "                                                 url   no of iframe tags  \\\n",
       "0                           http://www.moviem.co.uk/                   0   \n",
       "1                           http://www.moviem.co.uk/                   0   \n",
       "2                           http://www.moviem.co.uk/                   0   \n",
       "3                       ttp://www.irisa.fr/Gowachin/                   0   \n",
       "4  http://182.16.30.221/ap/signin?openid.pape.max...                   0   \n",
       "\n",
       "   no of hidden elements  no. script elements presence of meta refresh tags  \\\n",
       "0                      0                   11                         False   \n",
       "1                      0                   11                         False   \n",
       "2                      0                   11                         False   \n",
       "3                      0                    0                         False   \n",
       "4                      0                    7                         False   \n",
       "\n",
       "   no of object tag  no of urls presence of double documents  label  \n",
       "0                 0          32                            0      0  \n",
       "1                 0          32                            0      0  \n",
       "2                 0          32                            0      0  \n",
       "3                 0          25                            0      0  \n",
       "4                 0          11                            0      1  "
      ],
      "text/html": "<div>\n<style scoped>\n    .dataframe tbody tr th:only-of-type {\n        vertical-align: middle;\n    }\n\n    .dataframe tbody tr th {\n        vertical-align: top;\n    }\n\n    .dataframe thead th {\n        text-align: right;\n    }\n</style>\n<table border=\"1\" class=\"dataframe\">\n  <thead>\n    <tr style=\"text-align: right;\">\n      <th></th>\n      <th>url</th>\n      <th>no of iframe tags</th>\n      <th>no of hidden elements</th>\n      <th>no. script elements</th>\n      <th>presence of meta refresh tags</th>\n      <th>no of object tag</th>\n      <th>no of urls</th>\n      <th>presence of double documents</th>\n      <th>label</th>\n    </tr>\n  </thead>\n  <tbody>\n    <tr>\n      <th>0</th>\n      <td>http://www.moviem.co.uk/</td>\n      <td>0</td>\n      <td>0</td>\n      <td>11</td>\n      <td>False</td>\n      <td>0</td>\n      <td>32</td>\n      <td>0</td>\n      <td>0</td>\n    </tr>\n    <tr>\n      <th>1</th>\n      <td>http://www.moviem.co.uk/</td>\n      <td>0</td>\n      <td>0</td>\n      <td>11</td>\n      <td>False</td>\n      <td>0</td>\n      <td>32</td>\n      <td>0</td>\n      <td>0</td>\n    </tr>\n    <tr>\n      <th>2</th>\n      <td>http://www.moviem.co.uk/</td>\n      <td>0</td>\n      <td>0</td>\n      <td>11</td>\n      <td>False</td>\n      <td>0</td>\n      <td>32</td>\n      <td>0</td>\n      <td>0</td>\n    </tr>\n    <tr>\n      <th>3</th>\n      <td>ttp://www.irisa.fr/Gowachin/</td>\n      <td>0</td>\n      <td>0</td>\n      <td>0</td>\n      <td>False</td>\n      <td>0</td>\n      <td>25</td>\n      <td>0</td>\n      <td>0</td>\n    </tr>\n    <tr>\n      <th>4</th>\n      <td>http://182.16.30.221/ap/signin?openid.pape.max...</td>\n      <td>0</td>\n      <td>0</td>\n      <td>7</td>\n      <td>False</td>\n      <td>0</td>\n      <td>11</td>\n      <td>0</td>\n      <td>1</td>\n    </tr>\n  </tbody>\n</table>\n</div>"
     },
     "metadata": {},
     "execution_count": 12
    }
   ],
   "source": [
    "df2.head(5)"
   ]
  },
  {
   "cell_type": "code",
   "execution_count": 9,
   "metadata": {},
   "outputs": [
    {
     "output_type": "execute_result",
     "data": {
      "text/plain": [
       "                                                 url  label\n",
       "0                      http://www.currysleather.com/      0\n",
       "1                             http://www.mcfc.co.uk/      0\n",
       "2  https://whatsapp.blazagency.com/99e665748bd5bf...      1\n",
       "3                       https://pwcs-co.cf/?login=do      1\n",
       "4               https://messagerie-llebon-coins.com/      1"
      ],
      "text/html": "<div>\n<style scoped>\n    .dataframe tbody tr th:only-of-type {\n        vertical-align: middle;\n    }\n\n    .dataframe tbody tr th {\n        vertical-align: top;\n    }\n\n    .dataframe thead th {\n        text-align: right;\n    }\n</style>\n<table border=\"1\" class=\"dataframe\">\n  <thead>\n    <tr style=\"text-align: right;\">\n      <th></th>\n      <th>url</th>\n      <th>label</th>\n    </tr>\n  </thead>\n  <tbody>\n    <tr>\n      <th>0</th>\n      <td>http://www.currysleather.com/</td>\n      <td>0</td>\n    </tr>\n    <tr>\n      <th>1</th>\n      <td>http://www.mcfc.co.uk/</td>\n      <td>0</td>\n    </tr>\n    <tr>\n      <th>2</th>\n      <td>https://whatsapp.blazagency.com/99e665748bd5bf...</td>\n      <td>1</td>\n    </tr>\n    <tr>\n      <th>3</th>\n      <td>https://pwcs-co.cf/?login=do</td>\n      <td>1</td>\n    </tr>\n    <tr>\n      <th>4</th>\n      <td>https://messagerie-llebon-coins.com/</td>\n      <td>1</td>\n    </tr>\n  </tbody>\n</table>\n</div>"
     },
     "metadata": {},
     "execution_count": 9
    }
   ],
   "source": []
  },
  {
   "cell_type": "code",
   "execution_count": null,
   "metadata": {},
   "outputs": [],
   "source": []
  }
 ]
}